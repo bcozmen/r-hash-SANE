{
 "cells": [
  {
   "cell_type": "code",
   "execution_count": 4,
   "id": "7fc1b050",
   "metadata": {},
   "outputs": [],
   "source": [
    "from safetensors.torch import save_file, load_file\n",
    "import glob\n",
    "\n",
    "import os\n",
    "import torch\n",
    "import numpy as np\n",
    "from concurrent.futures import ProcessPoolExecutor, as_completed\n",
    "from tqdm import tqdm"
   ]
  },
  {
   "cell_type": "markdown",
   "id": "7d29ce7c",
   "metadata": {},
   "source": [
    "# Load file paths"
   ]
  },
  {
   "cell_type": "code",
   "execution_count": null,
   "id": "87565898",
   "metadata": {},
   "outputs": [],
   "source": [
    "\n",
    "\n",
    "objects = glob.glob(\"../data/*\")\n",
    "files = []\n",
    "for obj in objects:\n",
    "    files += glob.glob(obj +  \"/*/checkpoints\")\n",
    "\n",
    "files.sort()\n",
    "len(files)"
   ]
  },
  {
   "cell_type": "code",
   "execution_count": null,
   "id": "aa9910b1",
   "metadata": {},
   "outputs": [],
   "source": [
    "\n",
    "def process_file(data_path):\n",
    "    data_path = data_path.replace(\"/final.pth\", \"\")    \n",
    "    \n",
    "    #Extract MLP weights and save as mlp_raw.pth\n",
    "    weights = torch.load(os.path.join(data_path, \"final.pth\"), map_location='cpu')['model']\n",
    "    \n",
    "    geometry_layers = []\n",
    "    view_layers = []\n",
    "    for layer in range(3):\n",
    "        weight_key_grid = f'_orig_mod.grid_mlp.net.{layer}.weight'\n",
    "        weight_key_view = f'_orig_mod.view_mlp.net.{layer}.weight'\n",
    "\n",
    "        geometry_layers.append(torch.tensor(weights[weight_key_grid]))\n",
    "        view_layers.append(torch.tensor(weights[weight_key_view]))\n",
    "\n",
    "    data = {\n",
    "            \"geometry_layers\": geometry_layers,\n",
    "            \"view_layers\" : view_layers\n",
    "              \n",
    "        }\n",
    "    torch.save(data,data_path + \"/mlp_raw.pth\")\n",
    "    \n",
    "    #Extract embeddings and save as hash.bin\n",
    "    embeddings = weights['_orig_mod.grid_encoder.embeddings']\n",
    "    has_nan = torch.isnan(embeddings).any().item()\n",
    "    has_inf = torch.isinf(embeddings).any().item()\n",
    "    \n",
    "    if has_nan or has_inf:\n",
    "        pass\n",
    "    else:\n",
    "        embeddings.numpy().astype('float32').tofile(os.path.join(data_path, \"hash.bin\"))\n",
    "    return \n",
    "\n",
    "\n",
    "with ProcessPoolExecutor() as executor:\n",
    "    futures = [executor.submit(process_file, f) for f in files]\n",
    "\n",
    "    for _ in tqdm(as_completed(futures), total=len(futures)):\n",
    "        pass  # just to show progress bar"
   ]
  }
 ],
 "metadata": {
  "kernelspec": {
   "display_name": "Python 3 (ipykernel)",
   "language": "python",
   "name": "python3"
  },
  "language_info": {
   "codemirror_mode": {
    "name": "ipython",
    "version": 3
   },
   "file_extension": ".py",
   "mimetype": "text/x-python",
   "name": "python",
   "nbconvert_exporter": "python",
   "pygments_lexer": "ipython3",
   "version": "3.11.4"
  }
 },
 "nbformat": 4,
 "nbformat_minor": 5
}
